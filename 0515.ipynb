{
  "nbformat": 4,
  "nbformat_minor": 0,
  "metadata": {
    "colab": {
      "provenance": [],
      "authorship_tag": "ABX9TyNC7eIePJAz9HbjoTY9LLMY",
      "include_colab_link": true
    },
    "kernelspec": {
      "name": "python3",
      "display_name": "Python 3"
    },
    "language_info": {
      "name": "python"
    }
  },
  "cells": [
    {
      "cell_type": "markdown",
      "metadata": {
        "id": "view-in-github",
        "colab_type": "text"
      },
      "source": [
        "<a href=\"https://colab.research.google.com/github/Yuehwen/Introduction-to-Computers2/blob/main/0515.ipynb\" target=\"_parent\"><img src=\"https://colab.research.google.com/assets/colab-badge.svg\" alt=\"Open In Colab\"/></a>"
      ]
    },
    {
      "cell_type": "code",
      "execution_count": 1,
      "metadata": {
        "colab": {
          "base_uri": "https://localhost:8080/"
        },
        "id": "sKt27BL0QoKd",
        "outputId": "93d059b0-cb29-483e-b82f-29fc1698d67b"
      },
      "outputs": [
        {
          "output_type": "stream",
          "name": "stdout",
          "text": [
            "0515\n"
          ]
        }
      ],
      "source": [
        "print(\"0515\")"
      ]
    },
    {
      "cell_type": "code",
      "source": [
        "score = int(input(\"score: \"))\n",
        "if score >= 90:\n",
        "   print('A')\n",
        "elif score >= 80:\n",
        "  print(' B')\n",
        "elif score >= 70:\n",
        "  print(' C')\n",
        "elif score >= 60:\n",
        "  print(' D')\n",
        "else:\n",
        "  print('E')"
      ],
      "metadata": {
        "colab": {
          "base_uri": "https://localhost:8080/"
        },
        "id": "TAOzzphERPwG",
        "outputId": "f983dbba-001c-4a4e-b3eb-d1b4315f3f69"
      },
      "execution_count": 18,
      "outputs": [
        {
          "output_type": "stream",
          "name": "stdout",
          "text": [
            "score: 75\n",
            " C\n"
          ]
        }
      ]
    },
    {
      "cell_type": "code",
      "source": [
        "rain=input((\"請輸入字母:\"))\n",
        "if (a==\"N\" or a==\"n\" or a==\"Y\" or a==\"y\"):\n",
        "  print(rain)\n",
        "else:\n",
        "  input((\"請輸入字母:\"))"
      ],
      "metadata": {
        "colab": {
          "base_uri": "https://localhost:8080/"
        },
        "id": "Pg-3m8bURPy1",
        "outputId": "3bed81ce-5a5e-4bb0-8f50-50d919c77cdb"
      },
      "execution_count": 12,
      "outputs": [
        {
          "name": "stdout",
          "output_type": "stream",
          "text": [
            "請輸入字母:p\n",
            "請輸入字母:n\n"
          ]
        }
      ]
    },
    {
      "cell_type": "code",
      "source": [
        "t = int(input(\"請輸入體溫: \"))\n",
        "if t >= 37.5:\n",
        "   print('體溫過高!')\n",
        "elif t <= 37 and t>37.4:\n",
        "  print('體溫略高!')\n",
        "elif t <= 36.9 and t>34:\n",
        "  print('體溫正常!')\n",
        "elif t <=34:\n",
        "  print('體溫異常，請重新量測!')"
      ],
      "metadata": {
        "colab": {
          "base_uri": "https://localhost:8080/"
        },
        "id": "f7NbqskRRP3H",
        "outputId": "08198a9f-a4c8-4cff-a706-7f1be4abf023"
      },
      "execution_count": 27,
      "outputs": [
        {
          "output_type": "stream",
          "name": "stdout",
          "text": [
            "請輸入體溫: 36\n",
            "體溫正常!\n"
          ]
        }
      ]
    },
    {
      "cell_type": "code",
      "source": [
        "season = int(input(\"請輸入月份: \"))\n",
        "if (season==3 or season==4 or season==5) :\n",
        "   print(season,'月是春天')\n",
        "elif  (season==6 or season==7 or season==8) :\n",
        "  print(season ,'月是夏天')\n",
        "elif  (season==9 or season==10 or season==11):\n",
        "  print(season,'月是秋天')\n",
        "elif  (season==12 or season==1 or season==2) :\n",
        "  print(season,'月是冬天')\n",
        "else:\n",
        "  print(\"月份不再範圍內\")"
      ],
      "metadata": {
        "colab": {
          "base_uri": "https://localhost:8080/"
        },
        "id": "cHKzpKlKRP5M",
        "outputId": "2743064d-a376-48e9-b448-a34749dc9be6"
      },
      "execution_count": 24,
      "outputs": [
        {
          "output_type": "stream",
          "name": "stdout",
          "text": [
            "請輸入月份: 8\n",
            "8 月是夏天\n"
          ]
        }
      ]
    },
    {
      "cell_type": "code",
      "source": [
        "t = int(input(\"請輸入今年收入淨額: \"))\n",
        "if t>=2000000:\n",
        "   print(\"付稅金額:\",t*0.3,\"元\")\n",
        "elif t>=1000000:\n",
        "   print(\"付稅金額:\",t*0.21,\"元\")\n",
        "elif t>=600000:\n",
        "   print(\"付稅金額:\",t*0.13,\"元\")\n",
        "elif t>=3000000:\n",
        "   print(\"付稅金額:\",t*0.06,\"元\")\n",
        "else:\n",
        "  print(\"付稅金額:0元\")"
      ],
      "metadata": {
        "colab": {
          "base_uri": "https://localhost:8080/"
        },
        "id": "kyxktfoncSXu",
        "outputId": "bf8713e8-9125-4b0a-90f5-7eba9314ab27"
      },
      "execution_count": 32,
      "outputs": [
        {
          "output_type": "stream",
          "name": "stdout",
          "text": [
            "請輸入今年收入淨額: 1000000\n",
            "付稅金額: 210000.0 元\n"
          ]
        }
      ]
    }
  ]
}