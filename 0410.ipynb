{
  "nbformat": 4,
  "nbformat_minor": 0,
  "metadata": {
    "colab": {
      "provenance": [],
      "authorship_tag": "ABX9TyPxcwMLrvshSk1Nk5No3PFk",
      "include_colab_link": true
    },
    "kernelspec": {
      "name": "python3",
      "display_name": "Python 3"
    },
    "language_info": {
      "name": "python"
    }
  },
  "cells": [
    {
      "cell_type": "markdown",
      "metadata": {
        "id": "view-in-github",
        "colab_type": "text"
      },
      "source": [
        "<a href=\"https://colab.research.google.com/github/Yuehwen/Introduction-to-Computers2/blob/main/0410.ipynb\" target=\"_parent\"><img src=\"https://colab.research.google.com/assets/colab-badge.svg\" alt=\"Open In Colab\"/></a>"
      ]
    },
    {
      "cell_type": "code",
      "execution_count": 1,
      "metadata": {
        "id": "e4mdckkSKZGL",
        "colab": {
          "base_uri": "https://localhost:8080/"
        },
        "outputId": "2c31eb50-6bc8-481c-a045-29989b02d51b"
      },
      "outputs": [
        {
          "output_type": "stream",
          "name": "stdout",
          "text": [
            "Hi\n"
          ]
        }
      ],
      "source": [
        "print(\"Hi\")"
      ]
    },
    {
      "cell_type": "code",
      "source": [
        "(6+9==2+13)"
      ],
      "metadata": {
        "id": "29TlSUzOKfvf",
        "colab": {
          "base_uri": "https://localhost:8080/"
        },
        "outputId": "eaf7557e-4eb5-4134-f16d-a83aafe4421a"
      },
      "execution_count": 2,
      "outputs": [
        {
          "output_type": "execute_result",
          "data": {
            "text/plain": [
              "True"
            ]
          },
          "metadata": {},
          "execution_count": 2
        }
      ]
    },
    {
      "cell_type": "code",
      "source": [
        "(6+9!=2+13)"
      ],
      "metadata": {
        "id": "3Q0NSHjjKfyG",
        "colab": {
          "base_uri": "https://localhost:8080/"
        },
        "outputId": "83d8cf12-e6ec-4685-959a-19eec3d8d040"
      },
      "execution_count": 3,
      "outputs": [
        {
          "output_type": "execute_result",
          "data": {
            "text/plain": [
              "False"
            ]
          },
          "metadata": {},
          "execution_count": 3
        }
      ]
    },
    {
      "cell_type": "code",
      "source": [
        "(6+9>2+13)"
      ],
      "metadata": {
        "id": "gJA7uWcqKf0q",
        "colab": {
          "base_uri": "https://localhost:8080/"
        },
        "outputId": "fcfefdea-594a-4552-c412-c8600ee05eca"
      },
      "execution_count": 4,
      "outputs": [
        {
          "output_type": "execute_result",
          "data": {
            "text/plain": [
              "False"
            ]
          },
          "metadata": {},
          "execution_count": 4
        }
      ]
    },
    {
      "cell_type": "code",
      "source": [
        "(6+9<2+13)"
      ],
      "metadata": {
        "id": "MyJgGqILKf3H",
        "colab": {
          "base_uri": "https://localhost:8080/"
        },
        "outputId": "d3a49855-e6f8-4b13-f12c-99e6b673597a"
      },
      "execution_count": 5,
      "outputs": [
        {
          "output_type": "execute_result",
          "data": {
            "text/plain": [
              "False"
            ]
          },
          "metadata": {},
          "execution_count": 5
        }
      ]
    },
    {
      "cell_type": "code",
      "source": [
        "(6+9>=2+13)"
      ],
      "metadata": {
        "id": "ZCKVq-wHKf5g",
        "colab": {
          "base_uri": "https://localhost:8080/"
        },
        "outputId": "b6878b97-4f65-47ee-d9c0-cb2e8be97d83"
      },
      "execution_count": 6,
      "outputs": [
        {
          "output_type": "execute_result",
          "data": {
            "text/plain": [
              "True"
            ]
          },
          "metadata": {},
          "execution_count": 6
        }
      ]
    },
    {
      "cell_type": "code",
      "source": [
        "(6+9<=2+13)"
      ],
      "metadata": {
        "id": "-KxDsNm5Kf-m",
        "colab": {
          "base_uri": "https://localhost:8080/"
        },
        "outputId": "aaefe28e-46d0-4bfd-f023-a27c1afbeca3"
      },
      "execution_count": 7,
      "outputs": [
        {
          "output_type": "execute_result",
          "data": {
            "text/plain": [
              "True"
            ]
          },
          "metadata": {},
          "execution_count": 7
        }
      ]
    },
    {
      "cell_type": "code",
      "source": [
        "i=10"
      ],
      "metadata": {
        "id": "Mvc-DvFDKgBF"
      },
      "execution_count": 8,
      "outputs": []
    },
    {
      "cell_type": "code",
      "source": [
        "i+=5"
      ],
      "metadata": {
        "id": "e8uZghBRKgDn"
      },
      "execution_count": 9,
      "outputs": []
    },
    {
      "cell_type": "code",
      "source": [
        "i"
      ],
      "metadata": {
        "id": "FCFkMqa6KgGi",
        "colab": {
          "base_uri": "https://localhost:8080/"
        },
        "outputId": "27c50a36-9b9f-466d-c8ea-72a98161e1a4"
      },
      "execution_count": 10,
      "outputs": [
        {
          "output_type": "execute_result",
          "data": {
            "text/plain": [
              "15"
            ]
          },
          "metadata": {},
          "execution_count": 10
        }
      ]
    },
    {
      "cell_type": "code",
      "source": [
        "i=10"
      ],
      "metadata": {
        "id": "cgVwuw1sKgJt"
      },
      "execution_count": 11,
      "outputs": []
    },
    {
      "cell_type": "code",
      "source": [
        "i-=5"
      ],
      "metadata": {
        "id": "NpKz9jlDLpby"
      },
      "execution_count": 12,
      "outputs": []
    },
    {
      "cell_type": "code",
      "source": [
        "i"
      ],
      "metadata": {
        "colab": {
          "base_uri": "https://localhost:8080/"
        },
        "id": "TZtRgsozLpeI",
        "outputId": "16fc75bd-3ba9-47b0-b7c7-a6615df1d3ac"
      },
      "execution_count": 13,
      "outputs": [
        {
          "output_type": "execute_result",
          "data": {
            "text/plain": [
              "5"
            ]
          },
          "metadata": {},
          "execution_count": 13
        }
      ]
    },
    {
      "cell_type": "code",
      "source": [
        "i=10"
      ],
      "metadata": {
        "id": "nMOpA9lQLpim"
      },
      "execution_count": 14,
      "outputs": []
    },
    {
      "cell_type": "code",
      "source": [
        "i*=5"
      ],
      "metadata": {
        "id": "2nBP75xlLplJ"
      },
      "execution_count": 15,
      "outputs": []
    },
    {
      "cell_type": "code",
      "source": [
        "i"
      ],
      "metadata": {
        "colab": {
          "base_uri": "https://localhost:8080/"
        },
        "id": "k4bBmusILpnR",
        "outputId": "189bc94a-cb87-4d67-f9cf-3cecd21eb270"
      },
      "execution_count": 16,
      "outputs": [
        {
          "output_type": "execute_result",
          "data": {
            "text/plain": [
              "50"
            ]
          },
          "metadata": {},
          "execution_count": 16
        }
      ]
    },
    {
      "cell_type": "code",
      "source": [
        "i=10"
      ],
      "metadata": {
        "id": "aVVk5573KgMW"
      },
      "execution_count": 17,
      "outputs": []
    },
    {
      "cell_type": "code",
      "source": [
        "i/=5"
      ],
      "metadata": {
        "id": "5e8jAHStKgR2"
      },
      "execution_count": 18,
      "outputs": []
    },
    {
      "cell_type": "code",
      "source": [
        "i"
      ],
      "metadata": {
        "id": "OUNZhhk1KgU3",
        "colab": {
          "base_uri": "https://localhost:8080/"
        },
        "outputId": "914b24e5-9461-47ed-a4ff-8e5913462c1a"
      },
      "execution_count": 19,
      "outputs": [
        {
          "output_type": "execute_result",
          "data": {
            "text/plain": [
              "2.0"
            ]
          },
          "metadata": {},
          "execution_count": 19
        }
      ]
    },
    {
      "cell_type": "code",
      "source": [
        "i=10"
      ],
      "metadata": {
        "id": "vhgAPxf0KgX4"
      },
      "execution_count": 20,
      "outputs": []
    },
    {
      "cell_type": "code",
      "source": [
        "i%=5"
      ],
      "metadata": {
        "id": "Wsgv3qlyKgdL"
      },
      "execution_count": 22,
      "outputs": []
    },
    {
      "cell_type": "code",
      "source": [
        "i"
      ],
      "metadata": {
        "colab": {
          "base_uri": "https://localhost:8080/"
        },
        "id": "I-KO7p_cL41J",
        "outputId": "58da4979-da86-4710-e032-32ec7cdb4746"
      },
      "execution_count": 23,
      "outputs": [
        {
          "output_type": "execute_result",
          "data": {
            "text/plain": [
              "0"
            ]
          },
          "metadata": {},
          "execution_count": 23
        }
      ]
    },
    {
      "cell_type": "code",
      "source": [
        "i=10"
      ],
      "metadata": {
        "id": "OVhBAbWpL43h"
      },
      "execution_count": 24,
      "outputs": []
    },
    {
      "cell_type": "code",
      "source": [
        "i//=5"
      ],
      "metadata": {
        "id": "sgp8FQzZL45o"
      },
      "execution_count": 25,
      "outputs": []
    },
    {
      "cell_type": "code",
      "source": [
        "i"
      ],
      "metadata": {
        "colab": {
          "base_uri": "https://localhost:8080/"
        },
        "id": "neVOhhUCL48F",
        "outputId": "08300a68-1e73-4d2d-90da-e22670deec92"
      },
      "execution_count": 26,
      "outputs": [
        {
          "output_type": "execute_result",
          "data": {
            "text/plain": [
              "2"
            ]
          },
          "metadata": {},
          "execution_count": 26
        }
      ]
    },
    {
      "cell_type": "code",
      "source": [
        "i=10"
      ],
      "metadata": {
        "id": "XoAACfvTL4-e"
      },
      "execution_count": 27,
      "outputs": []
    },
    {
      "cell_type": "code",
      "source": [
        "i**=3"
      ],
      "metadata": {
        "id": "VMtCZi2fMBTO"
      },
      "execution_count": 29,
      "outputs": []
    },
    {
      "cell_type": "code",
      "source": [
        "i"
      ],
      "metadata": {
        "colab": {
          "base_uri": "https://localhost:8080/"
        },
        "id": "swWx05usMBVl",
        "outputId": "189e29ed-3758-44dd-8fe1-05aa34c12d1d"
      },
      "execution_count": 30,
      "outputs": [
        {
          "output_type": "execute_result",
          "data": {
            "text/plain": [
              "1000"
            ]
          },
          "metadata": {},
          "execution_count": 30
        }
      ]
    },
    {
      "cell_type": "code",
      "source": [
        "height=int(input(\"請輸入您的身高(cm)\"))"
      ],
      "metadata": {
        "colab": {
          "base_uri": "https://localhost:8080/"
        },
        "id": "rBwZnBrIMBYG",
        "outputId": "df3fd2df-8ef2-418f-9613-00a622ad84d9"
      },
      "execution_count": 35,
      "outputs": [
        {
          "name": "stdout",
          "output_type": "stream",
          "text": [
            "請輸入您的身高(cm)180\n"
          ]
        }
      ]
    },
    {
      "cell_type": "code",
      "source": [
        "weight=int(input(\"請輸入您的體重(kg)\"))"
      ],
      "metadata": {
        "colab": {
          "base_uri": "https://localhost:8080/"
        },
        "id": "kJIv84amMBaN",
        "outputId": "cc84d922-97f4-47be-fc29-c3d3764c1614"
      },
      "execution_count": 33,
      "outputs": [
        {
          "name": "stdout",
          "output_type": "stream",
          "text": [
            "請輸入您的體重(kg)80\n"
          ]
        }
      ]
    },
    {
      "cell_type": "code",
      "source": [
        "BMI=weight/(height/100)**2"
      ],
      "metadata": {
        "id": "4FyN1s2rMBcV"
      },
      "execution_count": 37,
      "outputs": []
    },
    {
      "cell_type": "code",
      "source": [
        "c=round(BMI,2)"
      ],
      "metadata": {
        "id": "C9UGBXwLMBhO"
      },
      "execution_count": 39,
      "outputs": []
    },
    {
      "cell_type": "code",
      "source": [
        "print(\"身高\", height, \"公分\", \"體重\", weight, \"公斤\" , \"BMI值為\", c)"
      ],
      "metadata": {
        "colab": {
          "base_uri": "https://localhost:8080/"
        },
        "id": "_O2WSanyL5At",
        "outputId": "4d570cff-0ef1-4d95-8020-da11c4f929ae"
      },
      "execution_count": 40,
      "outputs": [
        {
          "output_type": "stream",
          "name": "stdout",
          "text": [
            "身高 180 公分 體重 80 公斤 BMI值為 24.69\n"
          ]
        }
      ]
    }
  ]
}