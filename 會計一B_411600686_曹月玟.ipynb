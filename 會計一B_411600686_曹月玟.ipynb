{
  "nbformat": 4,
  "nbformat_minor": 0,
  "metadata": {
    "colab": {
      "provenance": [],
      "authorship_tag": "ABX9TyOIGYCJ8MfVtKDjeXk8leYQ",
      "include_colab_link": true
    },
    "kernelspec": {
      "name": "python3",
      "display_name": "Python 3"
    },
    "language_info": {
      "name": "python"
    }
  },
  "cells": [
    {
      "cell_type": "markdown",
      "metadata": {
        "id": "view-in-github",
        "colab_type": "text"
      },
      "source": [
        "<a href=\"https://colab.research.google.com/github/Yuehwen/Introduction-to-Computers2/blob/main/%E6%9C%83%E8%A8%88%E4%B8%80B_411600686_%E6%9B%B9%E6%9C%88%E7%8E%9F.ipynb\" target=\"_parent\"><img src=\"https://colab.research.google.com/assets/colab-badge.svg\" alt=\"Open In Colab\"/></a>"
      ]
    },
    {
      "cell_type": "code",
      "execution_count": 1,
      "metadata": {
        "colab": {
          "base_uri": "https://localhost:8080/"
        },
        "id": "ON-r9PrpKktB",
        "outputId": "acc3935f-3ab7-4e7e-df37-6f159741f8d9"
      },
      "outputs": [
        {
          "output_type": "stream",
          "name": "stdout",
          "text": [
            "淡江大學\n"
          ]
        }
      ],
      "source": [
        "print(\"淡江大學\")"
      ]
    },
    {
      "cell_type": "code",
      "source": [
        "tmp=0\n",
        "for i in range(1,6):\n",
        "  tmp +=i\n",
        "print('%d' % tmp)\n"
      ],
      "metadata": {
        "colab": {
          "base_uri": "https://localhost:8080/"
        },
        "id": "Nw_I7MRMKqBj",
        "outputId": "31786de2-7d0c-4c02-e6b7-163d1140a438"
      },
      "execution_count": 6,
      "outputs": [
        {
          "output_type": "stream",
          "name": "stdout",
          "text": [
            "15\n"
          ]
        }
      ]
    },
    {
      "cell_type": "code",
      "source": [
        "F= float(input(\"華氏溫度\"))\n",
        "攝氏溫度=(F-32)*5/9\n",
        "print('%.1f' % 攝氏溫度)"
      ],
      "metadata": {
        "colab": {
          "base_uri": "https://localhost:8080/"
        },
        "id": "T_op7TYHKqD_",
        "outputId": "daac527b-e8d7-4e51-e8a8-3147344d54e6"
      },
      "execution_count": 7,
      "outputs": [
        {
          "output_type": "stream",
          "name": "stdout",
          "text": [
            "華氏溫度100\n",
            "37.8\n"
          ]
        }
      ]
    },
    {
      "cell_type": "code",
      "source": [
        "c=int(input(\"存款金額\"))\n",
        "i=1.02\n",
        "i**=6\n",
        "i\n",
        "b=(c*i)\n",
        "print(\"6年後存款為\",b)"
      ],
      "metadata": {
        "colab": {
          "base_uri": "https://localhost:8080/"
        },
        "id": "AdjVBMAqKqGu",
        "outputId": "0b14d6e0-a51d-48ad-b78b-6a92db7e8971"
      },
      "execution_count": 9,
      "outputs": [
        {
          "output_type": "stream",
          "name": "stdout",
          "text": [
            "存款金額10000\n",
            "6年後存款為 11261.62419264\n"
          ]
        }
      ]
    }
  ]
}